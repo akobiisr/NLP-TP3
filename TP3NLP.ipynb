{
  "nbformat": 4,
  "nbformat_minor": 0,
  "metadata": {
    "colab": {
      "name": "TP3NLP.ipynb",
      "provenance": [],
      "collapsed_sections": [
        "7tiRHuZcAlFx",
        "1td67qBoWXWe",
        "bO0g18lUlPnR",
        "IyRHBU47lV3V",
        "uAueJRAw5AuQ",
        "rX6wPxq1LlTm",
        "JCBU3mzeTO4R"
      ],
      "toc_visible": true,
      "authorship_tag": "ABX9TyPR0MA+LzLDBbQUGGYjHeyi",
      "include_colab_link": true
    },
    "kernelspec": {
      "display_name": "Python 3",
      "name": "python3"
    }
  },
  "cells": [
    {
      "cell_type": "markdown",
      "metadata": {
        "id": "view-in-github",
        "colab_type": "text"
      },
      "source": [
        "<a href=\"https://colab.research.google.com/github/akobiisr/NLP-TP3/blob/main/TP3NLP.ipynb\" target=\"_parent\"><img src=\"https://colab.research.google.com/assets/colab-badge.svg\" alt=\"Open In Colab\"/></a>"
      ]
    },
    {
      "cell_type": "code",
      "metadata": {
        "id": "f4IBm8F0gjR0"
      },
      "source": [
        "!pip install sklearn-pycrfsuite"
      ],
      "execution_count": null,
      "outputs": []
    },
    {
      "cell_type": "code",
      "metadata": {
        "id": "WMrDWIAzpaNU"
      },
      "source": [
        "import spacy\n",
        "import numpy as np\n",
        "import itertools\n",
        "from tensorflow.keras.models import *\n",
        "from tensorflow.keras.layers import *\n",
        "from keras.callbacks import  *\n",
        "from tensorflow.keras.preprocessing.text import Tokenizer\n",
        "from tensorflow.keras.preprocessing.sequence import pad_sequences\n",
        "from keras.utils import to_categorical\n",
        "from sklearn.preprocessing import LabelEncoder\n",
        "from sklearn_crfsuite.metrics import flat_classification_report\n",
        "import matplotlib.pyplot as plt\n",
        "from random import randint\n"
      ],
      "execution_count": 2,
      "outputs": []
    },
    {
      "cell_type": "code",
      "metadata": {
        "id": "8icTXdhx9zMw",
        "colab": {
          "base_uri": "https://localhost:8080/"
        },
        "outputId": "ed0ac82c-46fe-4905-e5c3-ddabc667af6f"
      },
      "source": [
        "from google.colab import drive\n",
        "drive.mount('/content/gdrive')\n",
        "#https://colab.research.google.com/drive/1cMmtzM7rYc-cpW0fkRiTRb-ySr2UHf1h#scrollTo=086fpOA1lWlx"
      ],
      "execution_count": 3,
      "outputs": [
        {
          "output_type": "stream",
          "text": [
            "Mounted at /content/gdrive\n"
          ],
          "name": "stdout"
        }
      ]
    },
    {
      "cell_type": "markdown",
      "metadata": {
        "id": "7tiRHuZcAlFx"
      },
      "source": [
        "#Loader les données"
      ]
    },
    {
      "cell_type": "markdown",
      "metadata": {
        "id": "WepMXSaYThfl"
      },
      "source": [
        "Choisir les données à utiliser en fonction du données\r\n"
      ]
    },
    {
      "cell_type": "code",
      "metadata": {
        "id": "9vpj5k6MTLTc"
      },
      "source": [
        "\"\"\"\r\n",
        "data_type peut prendre la valeur de disease ou science\r\n",
        "\"\"\"\r\n",
        "def load_filename(data_type):\r\n",
        "  test_filename = \" \"\r\n",
        "  train_filename = \" \"\r\n",
        "  valid_filename = \" \"\r\n",
        "\r\n",
        "  if data_type == \"science\":\r\n",
        "    test_filename = \"/content/gdrive/My Drive/science/test.txt\"\r\n",
        "    train_filename = \"/content/gdrive/My Drive/science/train.txt\"\r\n",
        "    valid_filename = \"/content/gdrive/My Drive/science/dev.txt\"\r\n",
        "\r\n",
        "  if data_type == \"disease\":\r\n",
        "    test_filename = \"/content/gdrive/My Drive/disease/test.txt\"\r\n",
        "    train_filename = \"/content/gdrive/My Drive/disease/train.txt\"\r\n",
        "    valid_filename = \"/content/gdrive/My Drive/disease/dev.txt\"\r\n",
        "    \r\n",
        "  return train_filename, valid_filename, test_filename"
      ],
      "execution_count": 27,
      "outputs": []
    },
    {
      "cell_type": "markdown",
      "metadata": {
        "id": "-MDlo3KXJMNe"
      },
      "source": [
        "Chargé les données et les séparer en phrases\r\n"
      ]
    },
    {
      "cell_type": "code",
      "metadata": {
        "id": "yeF_XSQZ4_Ny"
      },
      "source": [
        "def load_data(filename):\n",
        "  data= list()\n",
        "  labels = list()\n",
        "  with open(filename) as fn:\n",
        "    content = fn.readlines()\n",
        "  #sentence = 0\n",
        "  sentence = list()\n",
        "  sent_label = list()\n",
        "  for x in content:\n",
        "    x = x.strip().split('\\t')\n",
        "    if len(x) !=1:\n",
        "      sentence.append(x[0])\n",
        "      x[1] = x[1].replace('B-', 'I-')\n",
        "      sent_label.append(x[1].replace('I-', ''))\n",
        "      #word.append(sentence)\n",
        "      #data.append(word)\n",
        "    else:\n",
        "      sentence = \" \".join(sentence)\n",
        "      data.append(sentence)\n",
        "      labels.append(sent_label)           \n",
        "      sentence, sent_label = list(), list()\n",
        "      \n",
        "  return data, labels"
      ],
      "execution_count": 28,
      "outputs": []
    },
    {
      "cell_type": "code",
      "metadata": {
        "id": "2_jbLSxXSMoM"
      },
      "source": [
        "#Cette fonction enlève les données vides\n",
        "def withraw_empty_data(data, label):\n",
        "  for d, l in zip(data, label):\n",
        "    if len(d.split()) ==0: # Verifie si la phrase est vide est la suprimer de la liste\n",
        "      data.pop(data.index(d))\n",
        "      label.pop(label.index(l))\n",
        "  return data, label"
      ],
      "execution_count": 29,
      "outputs": []
    },
    {
      "cell_type": "markdown",
      "metadata": {
        "id": "Kq8ZhWgHVO1c"
      },
      "source": [
        "Découper la donnée en phrase (sequence de mots) ainsi que les labels\r\n"
      ]
    },
    {
      "cell_type": "code",
      "metadata": {
        "id": "Tk4cBOhDGGss"
      },
      "source": [
        "def words_to_sentence(filename):\n",
        "  data, sentence = load_data(filename)\n",
        "  sentence_data = list()\n",
        "  word_sentence_label = list()\n",
        "  \n",
        "  last_visited =0\n",
        "  \n",
        "  for sent in range(sentence):\n",
        "    tmp_data = list()\n",
        "    tmp_label = list()\n",
        "    for idx in range(last_visited, len(data)):\n",
        "      #print(idx)\n",
        "      if data[idx][2] == sent:\n",
        "        tmp_data.append(data[idx][0])\n",
        "        tmp_label.append(data[idx][1])\n",
        "        last_visited = idx+1\n",
        "      else:\n",
        "        #last_visited = idx - 1\n",
        "        #print(last_visited)\n",
        "        break\n",
        "    sentence_data.append(tmp_data)\n",
        "    word_sentence_label.append(tmp_label)\n",
        "\n",
        "\n",
        "\n",
        "  return sentence_data, word_sentence_label"
      ],
      "execution_count": 30,
      "outputs": []
    },
    {
      "cell_type": "code",
      "metadata": {
        "id": "87gvruRiVi3F"
      },
      "source": [
        "train_filename, valid_filename, test_filename = load_filename(\"disease\")"
      ],
      "execution_count": 31,
      "outputs": []
    },
    {
      "cell_type": "code",
      "metadata": {
        "id": "rnBQsRa2N0Nb"
      },
      "source": [
        "d_train_data, d_train_label = load_data(train_filename)\n",
        "d_valid_data, d_valid_label = load_data(valid_filename)\n",
        "d_test_data, d_test_label = load_data(test_filename)\n",
        "\n",
        "d_train_data, d_train_label = withraw_empty_data(d_train_data, d_train_label)\n",
        "d_valid_data, d_valid_label = withraw_empty_data(d_valid_data, d_valid_label)\n",
        "d_test_data, d_test_label = withraw_empty_data(d_test_data, d_test_label)"
      ],
      "execution_count": 32,
      "outputs": []
    },
    {
      "cell_type": "code",
      "metadata": {
        "id": "iH2KPpbykqTf"
      },
      "source": [
        "train_filename, valid_filename, test_filename = load_filename(\"science\")"
      ],
      "execution_count": 33,
      "outputs": []
    },
    {
      "cell_type": "code",
      "metadata": {
        "id": "PlDy7ueBk15L"
      },
      "source": [
        "s_train_data, s_train_label = load_data(train_filename)\r\n",
        "s_valid_data, s_valid_label = load_data(valid_filename)\r\n",
        "s_test_data, s_test_label = load_data(test_filename)\r\n",
        "\r\n",
        "s_train_data, s_train_label = withraw_empty_data(s_train_data, s_train_label)\r\n",
        "s_valid_data, s_valid_label = withraw_empty_data(s_valid_data, s_valid_label)\r\n",
        "s_test_data, s_test_label = withraw_empty_data(s_test_data, s_test_label)"
      ],
      "execution_count": 34,
      "outputs": []
    },
    {
      "cell_type": "markdown",
      "metadata": {
        "id": "1td67qBoWXWe"
      },
      "source": [
        "#Analyse de donées de disease"
      ]
    },
    {
      "cell_type": "code",
      "metadata": {
        "colab": {
          "base_uri": "https://localhost:8080/"
        },
        "id": "rMiC9Qf3jlCH",
        "outputId": "77063822-e28d-4e13-8d35-64839080058d"
      },
      "source": [
        "print(\"nombre de phrase dans la données d'entrainement :\", len(d_train_data))\r\n",
        "print(\"nombre de phrase dans la données de validation :\", len(d_valid_data))\r\n",
        "print(\"nombre de phrase dans la données de test :\", len(d_test_data))\r\n"
      ],
      "execution_count": 35,
      "outputs": [
        {
          "output_type": "stream",
          "text": [
            "nombre de phrase dans la données d'entrainement : 5424\n",
            "nombre de phrase dans la données de validation : 923\n",
            "nombre de phrase dans la données de test : 940\n"
          ],
          "name": "stdout"
        }
      ]
    },
    {
      "cell_type": "code",
      "metadata": {
        "colab": {
          "base_uri": "https://localhost:8080/",
          "height": 227
        },
        "id": "qEzXEEVmWTdm",
        "outputId": "09e9207c-b1f7-48e3-822c-40c5ab63aa0e"
      },
      "source": [
        "sent_train_len = [len(sent.split()) for sent in d_train_data]\r\n",
        "sent_valid_len = [len(sent.split()) for sent in d_valid_data]\r\n",
        "sent_test_len = [len(sent.split()) for sent in d_test_data]\r\n",
        "\r\n",
        "sent_train_len, tr_counts = np.unique(np.array(sent_train_len), return_counts=True)\r\n",
        "sent_valid_len, val_counts = np.unique(np.array(sent_valid_len), return_counts=True)\r\n",
        "sent_test_len, test_counts = np.unique(np.array(sent_test_len), return_counts=True)\r\n",
        "\r\n",
        "plt.figure(figsize=(15, 3))\r\n",
        "\r\n",
        "plt.subplot(131)\r\n",
        "plt.bar(sent_train_len, tr_counts)\r\n",
        "plt.gca().set_title('Entrainement')\r\n",
        "\r\n",
        "plt.subplot(132)\r\n",
        "plt.bar(sent_valid_len, val_counts)\r\n",
        "plt.gca().set_title('Validation')\r\n",
        "\r\n",
        "plt.subplot(133)\r\n",
        "plt.bar(sent_test_len, test_counts)\r\n",
        "plt.gca().set_title('Test')\r\n",
        "\r\n",
        "#plt.suptitle('Longeur des phrases')\r\n",
        "plt.show()"
      ],
      "execution_count": 36,
      "outputs": [
        {
          "output_type": "display_data",
          "data": {
            "image/png": "[encoded data removed]",
            "text/plain": [
              "<Figure size 1080x216 with 3 Axes>"
            ]
          },
          "metadata": {
            "tags": [],
            "needs_background": "light"
          }
        }
      ]
    },
    {
      "cell_type": "code",
      "metadata": {
        "colab": {
          "base_uri": "https://localhost:8080/",
          "height": 227
        },
        "id": "IMCcNgRJX3-l",
        "outputId": "6e23e3a7-f626-416d-97c4-47674fc515b1"
      },
      "source": [
        "def label_list(labels):\r\n",
        "  list_labels = list()\r\n",
        "  for label in labels:\r\n",
        "    list_labels += label\r\n",
        "  unique_labels, counts = np.unique(np.array(list_labels), return_counts=True)\r\n",
        "  return unique_labels, counts\r\n",
        "\r\n",
        "sent_train_label, tr_counts = label_list(d_train_label)\r\n",
        "sent_valid_label, val_counts = label_list(d_valid_label)\r\n",
        "sent_test_label, test_counts = label_list(d_test_label)\r\n",
        "\r\n",
        "plt.figure(figsize=(15, 3))\r\n",
        "\r\n",
        "plt.subplot(131)\r\n",
        "plt.bar(sent_train_label, tr_counts)\r\n",
        "plt.gca().set_title('Entrainement')\r\n",
        "\r\n",
        "\r\n",
        "plt.subplot(132)\r\n",
        "plt.bar(sent_valid_label, val_counts)\r\n",
        "plt.gca().set_title('Validation')\r\n",
        "\r\n",
        "plt.subplot(133)\r\n",
        "plt.bar(sent_test_label, test_counts)\r\n",
        "plt.gca().set_title('Test')\r\n",
        "\r\n",
        "#plt.suptitle('REPARTITION DES LABELS')\r\n",
        "plt.show()"
      ],
      "execution_count": 37,
      "outputs": [
        {
          "output_type": "display_data",
          "data": {
            "image/png": "[encoded data removed]",
            "text/plain": [
              "<Figure size 1080x216 with 3 Axes>"
            ]
          },
          "metadata": {
            "tags": [],
            "needs_background": "light"
          }
        }
      ]
    },
    {
      "cell_type": "markdown",
      "metadata": {
        "id": "bO0g18lUlPnR"
      },
      "source": [
        "#Analyse de données science"
      ]
    },
    {
      "cell_type": "code",
      "metadata": {
        "colab": {
          "base_uri": "https://localhost:8080/"
        },
        "id": "SPanl0Lildq7",
        "outputId": "f7a0161a-f697-4b74-b1f1-09510b9044b8"
      },
      "source": [
        "print(\"nombre de phrase dans la données d'entrainement :\", len(s_train_data))\r\n",
        "print(\"nombre de phrase dans la données de validation :\", len(s_valid_data))\r\n",
        "print(\"nombre de phrase dans la données de test :\", len(s_test_data))\r\n"
      ],
      "execution_count": 38,
      "outputs": [
        {
          "output_type": "stream",
          "text": [
            "nombre de phrase dans la données d'entrainement : 1861\n",
            "nombre de phrase dans la données de validation : 275\n",
            "nombre de phrase dans la données de test : 551\n"
          ],
          "name": "stdout"
        }
      ]
    },
    {
      "cell_type": "code",
      "metadata": {
        "colab": {
          "base_uri": "https://localhost:8080/",
          "height": 227
        },
        "id": "mLDuiIV8l3S4",
        "outputId": "e7adffe1-ff07-4f5b-acb7-bf3d1c4de430"
      },
      "source": [
        "sent_train_len = [len(sent.split()) for sent in s_train_data]\r\n",
        "sent_valid_len = [len(sent.split()) for sent in s_valid_data]\r\n",
        "sent_test_len = [len(sent.split()) for sent in s_test_data]\r\n",
        "\r\n",
        "sent_train_len, tr_counts = np.unique(np.array(sent_train_len), return_counts=True)\r\n",
        "sent_valid_len, val_counts = np.unique(np.array(sent_valid_len), return_counts=True)\r\n",
        "sent_test_len, test_counts = np.unique(np.array(sent_test_len), return_counts=True)\r\n",
        "\r\n",
        "plt.figure(figsize=(15, 3))\r\n",
        "\r\n",
        "plt.subplot(131)\r\n",
        "plt.bar(sent_train_len, tr_counts)\r\n",
        "plt.gca().set_title('Entrainement')\r\n",
        "\r\n",
        "plt.subplot(132)\r\n",
        "plt.bar(sent_valid_len, val_counts)\r\n",
        "plt.gca().set_title('Validation')\r\n",
        "\r\n",
        "plt.subplot(133)\r\n",
        "plt.bar(sent_test_len, test_counts)\r\n",
        "plt.gca().set_title('Test')\r\n",
        "\r\n",
        "#plt.suptitle('Longeur des phrases')\r\n",
        "plt.show()"
      ],
      "execution_count": 39,
      "outputs": [
        {
          "output_type": "display_data",
          "data": {
            "image/png": "[encoded data removed]",
            "text/plain": [
              "<Figure size 1080x216 with 3 Axes>"
            ]
          },
          "metadata": {
            "tags": [],
            "needs_background": "light"
          }
        }
      ]
    },
    {
      "cell_type": "code",
      "metadata": {
        "colab": {
          "base_uri": "https://localhost:8080/",
          "height": 172
        },
        "id": "e_JTCQlV4Usg",
        "outputId": "18b15894-9f20-44f9-dab1-a6134af82a8b"
      },
      "source": [
        "sent_train_label, tr_counts = label_list(s_train_label)\r\n",
        "sent_valid_label, val_counts = label_list(s_valid_label)\r\n",
        "sent_test_label, test_counts = label_list(s_test_label)\r\n",
        "\r\n",
        "print(\"Liste des labels: \", sent_train_label)\r\n",
        "plt.figure(figsize=(40, 3))\r\n",
        "\r\n",
        "plt.subplot(131)\r\n",
        "plt.bar(sent_train_label, tr_counts)\r\n",
        "plt.gca().set_title('Entrainement')\r\n",
        "\r\n",
        "\r\n",
        "plt.subplot(132)\r\n",
        "plt.bar(sent_valid_label, val_counts)\r\n",
        "plt.gca().set_title('Validation')\r\n",
        "\r\n",
        "plt.subplot(133)\r\n",
        "plt.bar(sent_test_label, test_counts)\r\n",
        "plt.gca().set_title('Test')\r\n",
        "\r\n",
        "#plt.suptitle('REPARTITION DES LABELS')\r\n",
        "plt.show()"
      ],
      "execution_count": 40,
      "outputs": [
        {
          "output_type": "stream",
          "text": [
            "Liste des labels:  ['Generic' 'Material' 'Method' 'Metric' 'O' 'OtherScientificTerm' 'Task']\n"
          ],
          "name": "stdout"
        },
        {
          "output_type": "display_data",
          "data": {
            "image/png": "[encoded data removed]",
            "text/plain": [
              "<Figure size 2880x216 with 3 Axes>"
            ]
          },
          "metadata": {
            "tags": [],
            "needs_background": "light"
          }
        }
      ]
    },
    {
      "cell_type": "markdown",
      "metadata": {
        "id": "IyRHBU47lV3V"
      },
      "source": [
        "#Prétraitement des données science"
      ]
    },
    {
      "cell_type": "code",
      "metadata": {
        "id": "ZOFLgbf49E7H"
      },
      "source": [
        "s_vocab = set(itertools.chain(*[[w for w in s.split()] for s in s_train_data]))\n",
        "label_unique = set(itertools.chain(*[[w for w in s] for s in s_train_label]))  \n",
        "S_VOCAB_SIZE = len(s_vocab)\n",
        "S_LABEL_SIZE = len(label_unique)"
      ],
      "execution_count": 41,
      "outputs": []
    },
    {
      "cell_type": "code",
      "metadata": {
        "colab": {
          "base_uri": "https://localhost:8080/"
        },
        "id": "P4misbM49R-s",
        "outputId": "8f4bc89f-6f5b-419f-871c-7125d5a19650"
      },
      "source": [
        "print(S_VOCAB_SIZE, S_LABEL_SIZE)"
      ],
      "execution_count": 42,
      "outputs": [
        {
          "output_type": "stream",
          "text": [
            "5964 7\n"
          ],
          "name": "stdout"
        }
      ]
    },
    {
      "cell_type": "code",
      "metadata": {
        "id": "7OruZ_nrfWh_",
        "colab": {
          "base_uri": "https://localhost:8080/"
        },
        "outputId": "a921b3dd-251f-44e3-b35b-cbe09ec6a932"
      },
      "source": [
        "S_MAX_LEN = 0\n",
        "for t in s_train_data:\n",
        "  if len(t.split())> S_MAX_LEN:\n",
        "    S_MAX_LEN = len(t.split())\n",
        "    #print(t)\n",
        "print(S_MAX_LEN)"
      ],
      "execution_count": 43,
      "outputs": [
        {
          "output_type": "stream",
          "text": [
            "101\n"
          ],
          "name": "stdout"
        }
      ]
    },
    {
      "cell_type": "code",
      "metadata": {
        "id": "tAZ0e8EFSM0m"
      },
      "source": [
        "s_word_tokenizer = Tokenizer(num_words=S_VOCAB_SIZE, oov_token='UNK')\n",
        "s_word_tokenizer.fit_on_texts(s_train_data)\n",
        "s_word_index = s_word_tokenizer.word_index\n",
        "s_word_index['__PADDING__'] = 0\n",
        "s_index_word = {i:w for w, i in s_word_index.items()}\n",
        "\n",
        "x_s_train = s_word_tokenizer.texts_to_sequences(s_train_data)\n",
        "x_s_valid = s_word_tokenizer.texts_to_sequences(s_valid_data)\n",
        "x_s_test = s_word_tokenizer.texts_to_sequences(s_test_data)\n",
        "\n",
        "x_s_train = pad_sequences(x_s_train, maxlen=S_MAX_LEN, padding='post')\n",
        "x_s_valid = pad_sequences(x_s_valid, maxlen=S_MAX_LEN, padding='post')\n",
        "x_s_test = pad_sequences(x_s_test, maxlen=S_MAX_LEN, padding='post')"
      ],
      "execution_count": 44,
      "outputs": []
    },
    {
      "cell_type": "code",
      "metadata": {
        "colab": {
          "base_uri": "https://localhost:8080/"
        },
        "id": "aQ_tqrVeGx7d",
        "outputId": "dc7b7ac8-a5f8-47be-d2a3-8fd1c9fd5e6a"
      },
      "source": [
        "print(x_s_train[0])"
      ],
      "execution_count": 45,
      "outputs": [
        {
          "output_type": "stream",
          "text": [
            "[ 101    9  164    6   23 2983  119  374   13    2  470    3 2984    3\n",
            "    2  614  615   11 2985 2115  151  471 1669 1141    0    0    0    0\n",
            "    0    0    0    0    0    0    0    0    0    0    0    0    0    0\n",
            "    0    0    0    0    0    0    0    0    0    0    0    0    0    0\n",
            "    0    0    0    0    0    0    0    0    0    0    0    0    0    0\n",
            "    0    0    0    0    0    0    0    0    0    0    0    0    0    0\n",
            "    0    0    0    0    0    0    0    0    0    0    0    0    0    0\n",
            "    0    0    0]\n"
          ],
          "name": "stdout"
        }
      ]
    },
    {
      "cell_type": "code",
      "metadata": {
        "id": "-eglWnslcAIQ"
      },
      "source": [
        "s_tag_tokenizer = Tokenizer(num_words=S_LABEL_SIZE, lower=False, document_count=0)\n",
        "s_tag_tokenizer.fit_on_texts(s_train_label)\n",
        "\n",
        "s_tag_index = s_tag_tokenizer.word_index\n",
        "s_tag_index['__PADDING__'] = 0\n",
        "s_index_tag = {i:w for w, i in s_tag_index.items()}\n",
        "\n",
        "s_index_tag_wo_padding = dict(s_index_tag)\n",
        "s_index_tag_wo_padding[s_tag_index['__PADDING__']] = 'O'\n",
        "\n",
        "\n",
        "y_s_train = s_tag_tokenizer.texts_to_sequences(s_train_label)\n",
        "y_s_valid = s_tag_tokenizer.texts_to_sequences(s_valid_label)\n",
        "y_s_test = s_tag_tokenizer.texts_to_sequences(s_test_label)\n",
        "\n",
        "y_s_train = pad_sequences(y_s_train, maxlen=S_MAX_LEN, padding='post')\n",
        "y_s_valid = pad_sequences(y_s_valid, maxlen=S_MAX_LEN, padding='post')\n",
        "y_s_test = pad_sequences(y_s_test, maxlen=S_MAX_LEN, padding='post')"
      ],
      "execution_count": 46,
      "outputs": []
    },
    {
      "cell_type": "code",
      "metadata": {
        "colab": {
          "base_uri": "https://localhost:8080/"
        },
        "id": "oilnjBj1mfwM",
        "outputId": "165c852c-4b5d-42a9-f4d8-323478660016"
      },
      "source": [
        "print(y_s_train[0])"
      ],
      "execution_count": 47,
      "outputs": [
        {
          "output_type": "stream",
          "text": [
            "[5 1 1 1 1 1 1 1 1 1 3 1 1 1 1 1 1 3 3 3 3 1 0 0 0 0 0 0 0 0 0 0 0 0 0 0 0\n",
            " 0 0 0 0 0 0 0 0 0 0 0 0 0 0 0 0 0 0 0 0 0 0 0 0 0 0 0 0 0 0 0 0 0 0 0 0 0\n",
            " 0 0 0 0 0 0 0 0 0 0 0 0 0 0 0 0 0 0 0 0 0 0 0 0 0 0 0]\n"
          ],
          "name": "stdout"
        }
      ]
    },
    {
      "cell_type": "code",
      "metadata": {
        "id": "cvyws7p7Bxd0"
      },
      "source": [
        "y_s_train = np.expand_dims(y_s_train, -1)\n",
        "y_s_valid = np.expand_dims(y_s_valid, -1)\n",
        "y_s_test = np.expand_dims(y_s_test, -1)"
      ],
      "execution_count": 48,
      "outputs": []
    },
    {
      "cell_type": "code",
      "metadata": {
        "colab": {
          "base_uri": "https://localhost:8080/"
        },
        "id": "z5d1Vch68_-r",
        "outputId": "103e2583-d515-439e-9bed-593cfa8abd54"
      },
      "source": [
        "x_s_train.shape"
      ],
      "execution_count": 49,
      "outputs": [
        {
          "output_type": "execute_result",
          "data": {
            "text/plain": [
              "(1861, 101)"
            ]
          },
          "metadata": {
            "tags": []
          },
          "execution_count": 49
        }
      ]
    },
    {
      "cell_type": "markdown",
      "metadata": {
        "id": "uAueJRAw5AuQ"
      },
      "source": [
        "#Prétraitement des données Disease"
      ]
    },
    {
      "cell_type": "code",
      "metadata": {
        "id": "ntiXiYUmD6K5"
      },
      "source": [
        "d_vocab = set(itertools.chain(*[[w for w in s.split()] for s in d_train_data]))\r\n",
        "label_unique = set(itertools.chain(*[[w for w in s] for s in d_train_label]))  \r\n",
        "D_VOCAB_SIZE = len(s_vocab)\r\n",
        "D_LABEL_SIZE = len(label_unique)"
      ],
      "execution_count": 50,
      "outputs": []
    },
    {
      "cell_type": "code",
      "metadata": {
        "colab": {
          "base_uri": "https://localhost:8080/"
        },
        "id": "pLOSCGgKEbSz",
        "outputId": "0eb0b774-acab-4068-94de-f30d41d40651"
      },
      "source": [
        "print(D_VOCAB_SIZE, D_LABEL_SIZE)"
      ],
      "execution_count": 51,
      "outputs": [
        {
          "output_type": "stream",
          "text": [
            "5964 2\n"
          ],
          "name": "stdout"
        }
      ]
    },
    {
      "cell_type": "code",
      "metadata": {
        "colab": {
          "base_uri": "https://localhost:8080/"
        },
        "id": "x5jjKYuqEsp4",
        "outputId": "ca023cc1-2214-47ec-ce7d-b4fe4ce2864e"
      },
      "source": [
        "D_MAX_LEN = 0\r\n",
        "for t in d_train_data:\r\n",
        "  if len(t.split())> D_MAX_LEN:\r\n",
        "    D_MAX_LEN = len(t.split())\r\n",
        "print(D_MAX_LEN)"
      ],
      "execution_count": 52,
      "outputs": [
        {
          "output_type": "stream",
          "text": [
            "123\n"
          ],
          "name": "stdout"
        }
      ]
    },
    {
      "cell_type": "code",
      "metadata": {
        "id": "X2CaqKyxE9wA"
      },
      "source": [
        "d_word_tokenizer = Tokenizer(num_words=D_VOCAB_SIZE, oov_token='UNK')\r\n",
        "d_word_tokenizer.fit_on_texts(d_train_data)\r\n",
        "d_word_index = d_word_tokenizer.word_index\r\n",
        "d_word_index['__PADDING__'] = 0\r\n",
        "d_index_word = {i:w for w, i in d_word_index.items()}\r\n",
        "\r\n",
        "x_d_train = d_word_tokenizer.texts_to_sequences(d_train_data)\r\n",
        "x_d_valid = d_word_tokenizer.texts_to_sequences(d_valid_data)\r\n",
        "x_d_test = d_word_tokenizer.texts_to_sequences(d_test_data)\r\n",
        "\r\n",
        "x_d_train = pad_sequences(x_d_train, maxlen=D_MAX_LEN, padding='post')\r\n",
        "x_d_valid = pad_sequences(x_d_valid, maxlen=D_MAX_LEN, padding='post')\r\n",
        "x_d_test = pad_sequences(x_d_test, maxlen=D_MAX_LEN, padding='post')"
      ],
      "execution_count": 53,
      "outputs": []
    },
    {
      "cell_type": "code",
      "metadata": {
        "colab": {
          "base_uri": "https://localhost:8080/"
        },
        "id": "orl1k4-UFdKJ",
        "outputId": "47618ecc-89ec-4e85-d464-e4f74db12728"
      },
      "source": [
        "print(x_d_train[0])"
      ],
      "execution_count": 54,
      "outputs": [
        {
          "output_type": "stream",
          "text": [
            "[ 218    3 2297    6  620    3    2  307  256  484  683  517    0    0\n",
            "    0    0    0    0    0    0    0    0    0    0    0    0    0    0\n",
            "    0    0    0    0    0    0    0    0    0    0    0    0    0    0\n",
            "    0    0    0    0    0    0    0    0    0    0    0    0    0    0\n",
            "    0    0    0    0    0    0    0    0    0    0    0    0    0    0\n",
            "    0    0    0    0    0    0    0    0    0    0    0    0    0    0\n",
            "    0    0    0    0    0    0    0    0    0    0    0    0    0    0\n",
            "    0    0    0    0    0    0    0    0    0    0    0    0    0    0\n",
            "    0    0    0    0    0    0    0    0    0    0    0]\n"
          ],
          "name": "stdout"
        }
      ]
    },
    {
      "cell_type": "code",
      "metadata": {
        "id": "SwtDZXqOFfe7"
      },
      "source": [
        "d_tag_tokenizer = Tokenizer(num_words=D_LABEL_SIZE, lower=False, document_count=0)\r\n",
        "d_tag_tokenizer.fit_on_texts(d_train_label)\r\n",
        "\r\n",
        "d_tag_index = d_tag_tokenizer.word_index\r\n",
        "d_tag_index['__PADDING__'] = 0\r\n",
        "d_index_tag = {i:w for w, i in d_tag_index.items()}\r\n",
        "\r\n",
        "d_index_tag_wo_padding = dict(d_index_tag)\r\n",
        "d_index_tag_wo_padding[d_tag_index['__PADDING__']] = 'O'\r\n",
        "\r\n",
        "\r\n",
        "y_d_train = d_tag_tokenizer.texts_to_sequences(d_train_label)\r\n",
        "y_d_valid = d_tag_tokenizer.texts_to_sequences(d_valid_label)\r\n",
        "y_d_test = d_tag_tokenizer.texts_to_sequences(d_test_label)\r\n",
        "\r\n",
        "y_d_train = pad_sequences(y_d_train, maxlen=D_MAX_LEN, padding='post')\r\n",
        "y_d_valid = pad_sequences(y_d_valid, maxlen=D_MAX_LEN, padding='post')\r\n",
        "y_d_test = pad_sequences(y_d_test, maxlen=D_MAX_LEN, padding='post')"
      ],
      "execution_count": 55,
      "outputs": []
    },
    {
      "cell_type": "code",
      "metadata": {
        "id": "ykOXjJr5GEaD",
        "colab": {
          "base_uri": "https://localhost:8080/"
        },
        "outputId": "58a79860-0529-4821-b57b-71b0b260d7c8"
      },
      "source": [
        "print(y_d_train[0])"
      ],
      "execution_count": 56,
      "outputs": [
        {
          "output_type": "stream",
          "text": [
            "[1 1 1 1 1 1 1 1 1 1 0 0 0 0 0 0 0 0 0 0 0 0 0 0 0 0 0 0 0 0 0 0 0 0 0 0 0\n",
            " 0 0 0 0 0 0 0 0 0 0 0 0 0 0 0 0 0 0 0 0 0 0 0 0 0 0 0 0 0 0 0 0 0 0 0 0 0\n",
            " 0 0 0 0 0 0 0 0 0 0 0 0 0 0 0 0 0 0 0 0 0 0 0 0 0 0 0 0 0 0 0 0 0 0 0 0 0\n",
            " 0 0 0 0 0 0 0 0 0 0 0 0]\n"
          ],
          "name": "stdout"
        }
      ]
    },
    {
      "cell_type": "code",
      "metadata": {
        "id": "AY1nPIKAGPqY"
      },
      "source": [
        "y_d_train = np.expand_dims(y_d_train, -1)\r\n",
        "y_d_valid = np.expand_dims(y_d_valid, -1)\r\n",
        "y_d_test = np.expand_dims(y_d_test, -1)"
      ],
      "execution_count": 57,
      "outputs": []
    },
    {
      "cell_type": "markdown",
      "metadata": {
        "id": "k9tX7VAIZleC"
      },
      "source": [
        "# Modèle"
      ]
    },
    {
      "cell_type": "code",
      "metadata": {
        "colab": {
          "base_uri": "https://localhost:8080/"
        },
        "id": "psDPkAZ-f1ye",
        "outputId": "972e7479-6582-4bbc-a49c-6e7dc4a94edb"
      },
      "source": [
        "embeddings_index = dict()\r\n",
        "f = open('/content/gdrive/My Drive/glove.6B.300d.txt')\r\n",
        "\r\n",
        "for line in f:\r\n",
        "    values = line.split()\r\n",
        "    word = values[0]\r\n",
        "    coefs = np.asarray(values[1:], dtype='float32')\r\n",
        "    embeddings_index[word] = coefs\r\n",
        "\r\n",
        "f.close()\r\n",
        "print('Loaded %s word vectors.' % len(embeddings_index))"
      ],
      "execution_count": 58,
      "outputs": [
        {
          "output_type": "stream",
          "text": [
            "Loaded 400000 word vectors.\n"
          ],
          "name": "stdout"
        }
      ]
    },
    {
      "cell_type": "code",
      "metadata": {
        "id": "_6MUoN4Vcua0"
      },
      "source": [
        "# Cette fonction crée le modèle à utiliser\r\n",
        "def get_model(vocab, label_size, max_len, embeddings = None):\r\n",
        "  model = Sequential()\r\n",
        "  if embeddings:\r\n",
        "    #charger l'embedding des mots\r\n",
        "    num_words = len(vocab)\r\n",
        "    embedding_matrix = np.zeros((num_words, 300))\r\n",
        "\r\n",
        "    for word, i in zip(vocab, range(len(vocab))):\r\n",
        "        embedding_vector = embeddings_index.get(word)\r\n",
        "        if embedding_vector is not None:\r\n",
        "            embedding_matrix[i] = embedding_vector\r\n",
        "\r\n",
        "    model.add(Embedding(len(vocab),300,input_length=max_len,trainable=False))\r\n",
        "    model.add(Bidirectional(LSTM(512,return_sequences=True,dropout=0.2))) \r\n",
        "    model.add(TimeDistributed(Dense(label_size+1, activation='softmax')))\r\n",
        "    model.compile(optimizer='adam', loss='sparse_categorical_crossentropy',metrics=[\"acc\"])\r\n",
        "\r\n",
        "  else:\r\n",
        "    model.add(Embedding(len(vocab),300,input_length=max_len,trainable=True)) # Couche d'embedding\r\n",
        "    model.add(Bidirectional(LSTM(512,return_sequences=True,dropout=0.2))) # Couche de Bidirectionel LSTM\r\n",
        "    \r\n",
        "    model.add(TimeDistributed(Dense(label_size+1, activation='softmax'))) # Couche de classification de sequence\r\n",
        "    model.compile(optimizer='adam', loss='sparse_categorical_crossentropy',metrics=[\"acc\"])\r\n",
        "    \r\n",
        "\r\n",
        "  return model\r\n"
      ],
      "execution_count": 1,
      "outputs": []
    },
    {
      "cell_type": "code",
      "metadata": {
        "id": "Axlyuh1U3CHp"
      },
      "source": [
        "EPOCHS = 5"
      ],
      "execution_count": 60,
      "outputs": []
    },
    {
      "cell_type": "markdown",
      "metadata": {
        "id": "wO3t9xk8IyUn"
      },
      "source": [
        "#Model with science data"
      ]
    },
    {
      "cell_type": "code",
      "metadata": {
        "colab": {
          "base_uri": "https://localhost:8080/"
        },
        "id": "oMVFL1HuZlFj",
        "outputId": "6a3ae671-9858-4149-b782-aa78d714a376"
      },
      "source": [
        "model = get_model(s_vocab,S_LABEL_SIZE, S_MAX_LEN)\r\n",
        "print(model.summary())"
      ],
      "execution_count": 83,
      "outputs": [
        {
          "output_type": "stream",
          "text": [
            "Model: \"sequential\"\n",
            "_________________________________________________________________\n",
            "Layer (type)                 Output Shape              Param #   \n",
            "=================================================================\n",
            "embedding (Embedding)        (None, 101, 300)          1789200   \n",
            "_________________________________________________________________\n",
            "bidirectional (Bidirectional (None, 101, 1024)         3330048   \n",
            "_________________________________________________________________\n",
            "time_distributed (TimeDistri (None, 101, 8)            8200      \n",
            "=================================================================\n",
            "Total params: 5,127,448\n",
            "Trainable params: 5,127,448\n",
            "Non-trainable params: 0\n",
            "_________________________________________________________________\n",
            "None\n"
          ],
          "name": "stdout"
        }
      ]
    },
    {
      "cell_type": "code",
      "metadata": {
        "colab": {
          "base_uri": "https://localhost:8080/"
        },
        "id": "ch0BpPtXrbkR",
        "outputId": "33eb83af-72b7-4f51-cb4c-90264d9f0fe7"
      },
      "source": [
        "history = model.fit(x_s_train, np.array(y_s_train), epochs=EPOCHS, validation_data=(x_s_valid, np.array(y_s_valid)))"
      ],
      "execution_count": 84,
      "outputs": [
        {
          "output_type": "stream",
          "text": [
            "Epoch 1/5\n",
            "59/59 [==============================] - 199s 3s/step - loss: 0.6477 - acc: 0.8333 - val_loss: 0.2728 - val_acc: 0.9227\n",
            "Epoch 2/5\n",
            "59/59 [==============================] - 193s 3s/step - loss: 0.2610 - acc: 0.9247 - val_loss: 0.2458 - val_acc: 0.9226\n",
            "Epoch 3/5\n",
            "59/59 [==============================] - 194s 3s/step - loss: 0.2239 - acc: 0.9269 - val_loss: 0.2283 - val_acc: 0.9268\n",
            "Epoch 4/5\n",
            "59/59 [==============================] - 192s 3s/step - loss: 0.1956 - acc: 0.9337 - val_loss: 0.2217 - val_acc: 0.9284\n",
            "Epoch 5/5\n",
            "59/59 [==============================] - 191s 3s/step - loss: 0.1653 - acc: 0.9441 - val_loss: 0.2197 - val_acc: 0.9292\n"
          ],
          "name": "stdout"
        }
      ]
    },
    {
      "cell_type": "code",
      "metadata": {
        "id": "rC84wm5E3Md4"
      },
      "source": [
        "def plotTraining(epochs, history):\r\n",
        "  plt.plot(range(EPOCHS), history.history['loss'], label = \"train loss\")\r\n",
        "  plt.plot(range(EPOCHS), history.history['val_loss'], label = \"valid loss\")\r\n",
        "  plt.legend()\r\n",
        "  plt.title(\"Training loss\")\r\n",
        "  plt.show()\r\n",
        "\r\n",
        "  plt.plot(range(EPOCHS), history.history['acc'], label = \"train acc\")\r\n",
        "  plt.plot(range(EPOCHS), history.history['val_acc'], label = \"valid acc\")\r\n",
        "  plt.legend()\r\n",
        "  plt.title(\"Training acc\")\r\n",
        "  plt.show()"
      ],
      "execution_count": 66,
      "outputs": []
    },
    {
      "cell_type": "code",
      "metadata": {
        "colab": {
          "base_uri": "https://localhost:8080/",
          "height": 545
        },
        "id": "P09C8wxt-Gsg",
        "outputId": "4d249bf8-1b66-4c69-e033-b9580c9c87aa"
      },
      "source": [
        "plotTraining(EPOCHS, history)"
      ],
      "execution_count": 86,
      "outputs": [
        {
          "output_type": "display_data",
          "data": {
            "image/png": "[encoded data removed]",
            "text/plain": [
              "<Figure size 432x288 with 1 Axes>"
            ]
          },
          "metadata": {
            "tags": [],
            "needs_background": "light"
          }
        },
        {
          "output_type": "display_data",
          "data": {
            "image/png": "[encoded data removed]",
            "text/plain": [
              "<Figure size 432x288 with 1 Axes>"
            ]
          },
          "metadata": {
            "tags": [],
            "needs_background": "light"
          }
        }
      ]
    },
    {
      "cell_type": "code",
      "metadata": {
        "id": "u7IVI6YOsJIb"
      },
      "source": [
        "predicted = model.predict(x_s_test)\r\n",
        "predicted_tags = []\r\n",
        "for s, s_pred in zip(s_test_data, predicted):\r\n",
        "    tags = np.argmax(s_pred, axis=1)\r\n",
        "    tags = tags[:len(s.split())]\r\n",
        "    labels = [s_index_tag_wo_padding[tag] for tag in tags]\r\n",
        "    #print(labels)\r\n",
        "    predicted_tags.append(labels)"
      ],
      "execution_count": 96,
      "outputs": []
    },
    {
      "cell_type": "code",
      "metadata": {
        "colab": {
          "base_uri": "https://localhost:8080/"
        },
        "id": "VUmQ1VNTtOlg",
        "outputId": "f32fbe5c-6667-4c0e-fade-3bf82444d0cb"
      },
      "source": [
        "test_i = randint(0,len(s_test_data))\r\n",
        "sent = s_test_data[test_i].split()\r\n",
        "for i in range(len(sent)):\r\n",
        "  print(predicted_tags[test_i][i],\" -------\", s_test_label[test_i][i])"
      ],
      "execution_count": 103,
      "outputs": [
        {
          "output_type": "stream",
          "text": [
            "O  ------- O\n",
            "O  ------- O\n",
            "O  ------- O\n",
            "O  ------- O\n",
            "O  ------- O\n",
            "O  ------- O\n",
            "O  ------- O\n",
            "Method  ------- Task\n",
            "Task  ------- Task\n",
            "O  ------- Task\n",
            "O  ------- Task\n",
            "O  ------- Task\n",
            "O  ------- O\n",
            "O  ------- O\n",
            "O  ------- O\n",
            "O  ------- O\n",
            "O  ------- O\n",
            "O  ------- O\n",
            "O  ------- Task\n",
            "OtherScientificTerm  ------- Task\n",
            "OtherScientificTerm  ------- Task\n",
            "OtherScientificTerm  ------- O\n",
            "O  ------- O\n",
            "O  ------- O\n",
            "O  ------- OtherScientificTerm\n",
            "O  ------- OtherScientificTerm\n",
            "O  ------- OtherScientificTerm\n",
            "O  ------- OtherScientificTerm\n",
            "O  ------- O\n"
          ],
          "name": "stdout"
        }
      ]
    },
    {
      "cell_type": "code",
      "metadata": {
        "colab": {
          "base_uri": "https://localhost:8080/"
        },
        "id": "7m9e5II6tjsV",
        "outputId": "5a6ef278-9326-4d24-c82d-8dd242ecbcd7"
      },
      "source": [
        "print(flat_classification_report(s_test_label, predicted_tags))"
      ],
      "execution_count": 100,
      "outputs": [
        {
          "output_type": "stream",
          "text": [
            "                     precision    recall  f1-score   support\n",
            "\n",
            "            Generic       0.64      0.18      0.28       257\n",
            "           Material       0.63      0.06      0.12       375\n",
            "             Method       0.60      0.34      0.43      1177\n",
            "             Metric       0.00      0.00      0.00       140\n",
            "                  O       0.77      0.96      0.85      9467\n",
            "OtherScientificTerm       0.46      0.13      0.21      1218\n",
            "               Task       0.46      0.30      0.36       767\n",
            "\n",
            "           accuracy                           0.74     13401\n",
            "          macro avg       0.51      0.28      0.32     13401\n",
            "       weighted avg       0.69      0.74      0.69     13401\n",
            "\n"
          ],
          "name": "stdout"
        },
        {
          "output_type": "stream",
          "text": [
            "/usr/local/lib/python3.6/dist-packages/sklearn/metrics/_classification.py:1272: UndefinedMetricWarning: Precision and F-score are ill-defined and being set to 0.0 in labels with no predicted samples. Use `zero_division` parameter to control this behavior.\n",
            "  _warn_prf(average, modifier, msg_start, len(result))\n"
          ],
          "name": "stderr"
        }
      ]
    },
    {
      "cell_type": "code",
      "metadata": {
        "colab": {
          "base_uri": "https://localhost:8080/"
        },
        "id": "0V3vcY4acrr1",
        "outputId": "0ba66dab-4bb8-468e-c09f-9d8fbf72ef0d"
      },
      "source": [
        "model = get_model(s_vocab,S_LABEL_SIZE, S_MAX_LEN, embeddings_index)\r\n",
        "print(model.summary())"
      ],
      "execution_count": 105,
      "outputs": [
        {
          "output_type": "stream",
          "text": [
            "Model: \"sequential_1\"\n",
            "_________________________________________________________________\n",
            "Layer (type)                 Output Shape              Param #   \n",
            "=================================================================\n",
            "embedding_1 (Embedding)      (None, 101, 300)          1789200   \n",
            "_________________________________________________________________\n",
            "bidirectional_1 (Bidirection (None, 101, 1024)         3330048   \n",
            "_________________________________________________________________\n",
            "time_distributed_1 (TimeDist (None, 101, 8)            8200      \n",
            "=================================================================\n",
            "Total params: 5,127,448\n",
            "Trainable params: 3,338,248\n",
            "Non-trainable params: 1,789,200\n",
            "_________________________________________________________________\n",
            "None\n"
          ],
          "name": "stdout"
        }
      ]
    },
    {
      "cell_type": "code",
      "metadata": {
        "colab": {
          "base_uri": "https://localhost:8080/"
        },
        "id": "emrW8L-tCxCV",
        "outputId": "764472f0-54ac-43ce-b5d5-672ec443ffa5"
      },
      "source": [
        "history = model.fit(x_s_train, np.array(y_s_train), epochs=EPOCHS, validation_data=(x_s_valid, np.array(y_s_valid)))"
      ],
      "execution_count": 106,
      "outputs": [
        {
          "output_type": "stream",
          "text": [
            "Epoch 1/5\n",
            "59/59 [==============================] - 158s 3s/step - loss: 0.6605 - acc: 0.8054 - val_loss: 0.2772 - val_acc: 0.9217\n",
            "Epoch 2/5\n",
            "59/59 [==============================] - 155s 3s/step - loss: 0.2702 - acc: 0.9240 - val_loss: 0.2691 - val_acc: 0.9227\n",
            "Epoch 3/5\n",
            "59/59 [==============================] - 160s 3s/step - loss: 0.2704 - acc: 0.9217 - val_loss: 0.2676 - val_acc: 0.9228\n",
            "Epoch 4/5\n",
            "59/59 [==============================] - 158s 3s/step - loss: 0.2633 - acc: 0.9228 - val_loss: 0.2623 - val_acc: 0.9226\n",
            "Epoch 5/5\n",
            "59/59 [==============================] - 157s 3s/step - loss: 0.2512 - acc: 0.9248 - val_loss: 0.2566 - val_acc: 0.9221\n"
          ],
          "name": "stdout"
        }
      ]
    },
    {
      "cell_type": "code",
      "metadata": {
        "colab": {
          "base_uri": "https://localhost:8080/",
          "height": 545
        },
        "id": "ePWhAdcqC149",
        "outputId": "6293a1fb-aa58-4242-db7c-8bcf2ac8f59f"
      },
      "source": [
        "plotTraining(EPOCHS, history)"
      ],
      "execution_count": 107,
      "outputs": [
        {
          "output_type": "display_data",
          "data": {
            "image/png": "[encoded data removed]",
            "text/plain": [
              "<Figure size 432x288 with 1 Axes>"
            ]
          },
          "metadata": {
            "tags": [],
            "needs_background": "light"
          }
        },
        {
          "output_type": "display_data",
          "data": {
            "image/png": "[encoded data removed]",
            "text/plain": [
              "<Figure size 432x288 with 1 Axes>"
            ]
          },
          "metadata": {
            "tags": [],
            "needs_background": "light"
          }
        }
      ]
    },
    {
      "cell_type": "code",
      "metadata": {
        "id": "KWX7Vz1bC5md"
      },
      "source": [
        "predicted = model.predict(x_s_test)\r\n",
        "predicted_tags = []\r\n",
        "for s, s_pred in zip(s_test_data, predicted):\r\n",
        "    tags = np.argmax(s_pred, axis=1)\r\n",
        "    tags = tags[:len(s.split())]\r\n",
        "    labels = [s_index_tag_wo_padding[tag] for tag in tags]\r\n",
        "    #print(labels)\r\n",
        "    predicted_tags.append(labels)"
      ],
      "execution_count": 108,
      "outputs": []
    },
    {
      "cell_type": "code",
      "metadata": {
        "colab": {
          "base_uri": "https://localhost:8080/"
        },
        "id": "p5BW-60JC8t1",
        "outputId": "8e240f6c-91fd-489b-9ccc-43c47a421538"
      },
      "source": [
        "test_i = randint(0,len(s_test_data))\r\n",
        "sent = s_test_data[test_i].split()\r\n",
        "for i in range(len(sent)):\r\n",
        "  print(predicted_tags[test_i][i],\" -------\", s_test_label[test_i][i])"
      ],
      "execution_count": 127,
      "outputs": [
        {
          "output_type": "stream",
          "text": [
            "O  ------- O\n",
            "O  ------- O\n",
            "O  ------- O\n",
            "O  ------- O\n",
            "O  ------- O\n",
            "O  ------- O\n",
            "O  ------- O\n",
            "O  ------- O\n",
            "O  ------- O\n",
            "O  ------- Generic\n",
            "O  ------- O\n",
            "O  ------- O\n",
            "O  ------- O\n",
            "O  ------- O\n"
          ],
          "name": "stdout"
        }
      ]
    },
    {
      "cell_type": "code",
      "metadata": {
        "colab": {
          "base_uri": "https://localhost:8080/"
        },
        "id": "ECQ7niSbDB3b",
        "outputId": "999995d8-4239-4df0-993c-ca413c41d8c2"
      },
      "source": [
        "print(flat_classification_report(s_test_label, predicted_tags))"
      ],
      "execution_count": 112,
      "outputs": [
        {
          "output_type": "stream",
          "text": [
            "                     precision    recall  f1-score   support\n",
            "\n",
            "            Generic       0.00      0.00      0.00       257\n",
            "           Material       0.00      0.00      0.00       375\n",
            "             Method       0.40      0.00      0.00      1177\n",
            "             Metric       0.00      0.00      0.00       140\n",
            "                  O       0.71      1.00      0.83      9467\n",
            "OtherScientificTerm       0.00      0.00      0.00      1218\n",
            "               Task       0.00      0.00      0.00       767\n",
            "\n",
            "           accuracy                           0.71     13401\n",
            "          macro avg       0.16      0.14      0.12     13401\n",
            "       weighted avg       0.53      0.71      0.59     13401\n",
            "\n"
          ],
          "name": "stdout"
        },
        {
          "output_type": "stream",
          "text": [
            "/usr/local/lib/python3.6/dist-packages/sklearn/metrics/_classification.py:1272: UndefinedMetricWarning: Precision and F-score are ill-defined and being set to 0.0 in labels with no predicted samples. Use `zero_division` parameter to control this behavior.\n",
            "  _warn_prf(average, modifier, msg_start, len(result))\n"
          ],
          "name": "stderr"
        }
      ]
    },
    {
      "cell_type": "markdown",
      "metadata": {
        "id": "cRR-X5EL6Wr4"
      },
      "source": [
        "#Model with disease data"
      ]
    },
    {
      "cell_type": "code",
      "metadata": {
        "colab": {
          "base_uri": "https://localhost:8080/"
        },
        "id": "iIlCWGrv4KPx",
        "outputId": "e832f6ae-a307-4adb-cda0-15d1354c94f1"
      },
      "source": [
        "model = get_model(d_vocab,D_LABEL_SIZE, D_MAX_LEN)\n",
        "print(model.summary())"
      ],
      "execution_count": 41,
      "outputs": [
        {
          "output_type": "stream",
          "text": [
            "Model: \"sequential\"\n",
            "_________________________________________________________________\n",
            "Layer (type)                 Output Shape              Param #   \n",
            "=================================================================\n",
            "embedding (Embedding)        (None, 123, 300)          2785200   \n",
            "_________________________________________________________________\n",
            "bidirectional (Bidirectional (None, 123, 1024)         3330048   \n",
            "_________________________________________________________________\n",
            "time_distributed (TimeDistri (None, 123, 3)            3075      \n",
            "=================================================================\n",
            "Total params: 6,118,323\n",
            "Trainable params: 6,118,323\n",
            "Non-trainable params: 0\n",
            "_________________________________________________________________\n",
            "None\n"
          ],
          "name": "stdout"
        }
      ]
    },
    {
      "cell_type": "code",
      "metadata": {
        "colab": {
          "base_uri": "https://localhost:8080/"
        },
        "id": "nP7RZVdOdCAC",
        "outputId": "ddc2a958-19c5-451f-adf8-2577780cc0fb"
      },
      "source": [
        "history = model.fit(x_d_train, np.array(y_d_train), epochs=EPOCHS, validation_data=(x_d_valid, np.array(y_d_valid)))"
      ],
      "execution_count": 42,
      "outputs": [
        {
          "output_type": "stream",
          "text": [
            "Epoch 1/5\n",
            "170/170 [==============================] - 716s 4s/step - loss: 0.1758 - acc: 0.9293 - val_loss: 0.0438 - val_acc: 0.9840\n",
            "Epoch 2/5\n",
            "170/170 [==============================] - 725s 4s/step - loss: 0.0416 - acc: 0.9842 - val_loss: 0.0349 - val_acc: 0.9857\n",
            "Epoch 3/5\n",
            "170/170 [==============================] - 716s 4s/step - loss: 0.0290 - acc: 0.9881 - val_loss: 0.0346 - val_acc: 0.9861\n",
            "Epoch 4/5\n",
            "170/170 [==============================] - 702s 4s/step - loss: 0.0234 - acc: 0.9903 - val_loss: 0.0385 - val_acc: 0.9854\n",
            "Epoch 5/5\n",
            "170/170 [==============================] - 701s 4s/step - loss: 0.0205 - acc: 0.9914 - val_loss: 0.0420 - val_acc: 0.9849\n"
          ],
          "name": "stdout"
        }
      ]
    },
    {
      "cell_type": "code",
      "metadata": {
        "colab": {
          "base_uri": "https://localhost:8080/",
          "height": 545
        },
        "id": "_r7Bm4Si5c3s",
        "outputId": "20287e5e-ad8e-4eb1-a269-dd832567fe78"
      },
      "source": [
        "plotTraining(EPOCHS, history)"
      ],
      "execution_count": 43,
      "outputs": [
        {
          "output_type": "display_data",
          "data": {
            "image/png": "[encoded data removed]",
            "text/plain": [
              "<Figure size 432x288 with 1 Axes>"
            ]
          },
          "metadata": {
            "tags": [],
            "needs_background": "light"
          }
        },
        {
          "output_type": "display_data",
          "data": {
            "image/png": "[encoded data removed]",
            "text/plain": [
              "<Figure size 432x288 with 1 Axes>"
            ]
          },
          "metadata": {
            "tags": [],
            "needs_background": "light"
          }
        }
      ]
    },
    {
      "cell_type": "code",
      "metadata": {
        "id": "o9bNs32c5q8b"
      },
      "source": [
        "predicted = model.predict(x_d_test)\n",
        "predicted_tags = []\n",
        "for s, s_pred in zip(d_test_data, predicted):\n",
        "    tags = np.argmax(s_pred, axis=1)\n",
        "    tags = tags[:len(s.split())]\n",
        "    labels = [d_index_tag_wo_padding[tag] for tag in tags]\n",
        "    #print(labels)\n",
        "    predicted_tags.append(labels)"
      ],
      "execution_count": 44,
      "outputs": []
    },
    {
      "cell_type": "code",
      "metadata": {
        "colab": {
          "base_uri": "https://localhost:8080/"
        },
        "id": "ff9MlX6p6LH-",
        "outputId": "e5a06c5b-a4b4-44ca-f1b6-5ef35c8d6d84"
      },
      "source": [
        "test_i = randint(0,len(d_test_data))\n",
        "for i in range(len(d_test_data[test_i].split())):\n",
        "  print(predicted_tags[test_i][i],\" -------\", d_test_label[test_i][i])"
      ],
      "execution_count": 45,
      "outputs": [
        {
          "output_type": "stream",
          "text": [
            "O  ------- O\n",
            "O  ------- O\n",
            "O  ------- O\n",
            "O  ------- O\n",
            "O  ------- O\n",
            "O  ------- O\n",
            "O  ------- O\n",
            "O  ------- O\n",
            "O  ------- O\n",
            "O  ------- O\n",
            "O  ------- O\n",
            "O  ------- O\n",
            "O  ------- O\n",
            "O  ------- O\n",
            "O  ------- O\n",
            "O  ------- O\n",
            "O  ------- O\n",
            "O  ------- O\n",
            "O  ------- O\n",
            "O  ------- O\n",
            "O  ------- O\n",
            "O  ------- O\n",
            "O  ------- O\n",
            "O  ------- O\n",
            "O  ------- O\n",
            "O  ------- O\n",
            "O  ------- O\n",
            "O  ------- O\n",
            "O  ------- O\n"
          ],
          "name": "stdout"
        }
      ]
    },
    {
      "cell_type": "code",
      "metadata": {
        "colab": {
          "base_uri": "https://localhost:8080/"
        },
        "id": "fSXUrbNv6UR1",
        "outputId": "28dde03a-58d8-4c91-b4b6-b8d39300e3ea"
      },
      "source": [
        "print(flat_classification_report(d_test_label, predicted_tags))"
      ],
      "execution_count": 46,
      "outputs": [
        {
          "output_type": "stream",
          "text": [
            "              precision    recall  f1-score   support\n",
            "\n",
            "     Disease       0.00      0.00      0.00      2047\n",
            "           O       0.92      1.00      0.96     22450\n",
            "\n",
            "    accuracy                           0.92     24497\n",
            "   macro avg       0.46      0.50      0.48     24497\n",
            "weighted avg       0.84      0.92      0.88     24497\n",
            "\n"
          ],
          "name": "stdout"
        },
        {
          "output_type": "stream",
          "text": [
            "/usr/local/lib/python3.6/dist-packages/sklearn/metrics/_classification.py:1272: UndefinedMetricWarning: Precision and F-score are ill-defined and being set to 0.0 in labels with no predicted samples. Use `zero_division` parameter to control this behavior.\n",
            "  _warn_prf(average, modifier, msg_start, len(result))\n"
          ],
          "name": "stderr"
        }
      ]
    },
    {
      "cell_type": "code",
      "metadata": {
        "colab": {
          "base_uri": "https://localhost:8080/"
        },
        "id": "NA-aMTEpIJp7",
        "outputId": "3d85dd5b-fc12-4f53-f2f9-c4514ff47746"
      },
      "source": [
        "model = get_model(d_vocab,D_LABEL_SIZE, D_MAX_LEN, embeddings_index)\n",
        "print(model.summary())"
      ],
      "execution_count": 61,
      "outputs": [
        {
          "output_type": "stream",
          "text": [
            "Model: \"sequential\"\n",
            "_________________________________________________________________\n",
            "Layer (type)                 Output Shape              Param #   \n",
            "=================================================================\n",
            "embedding (Embedding)        (None, 123, 300)          2785200   \n",
            "_________________________________________________________________\n",
            "bidirectional (Bidirectional (None, 123, 1024)         3330048   \n",
            "_________________________________________________________________\n",
            "time_distributed (TimeDistri (None, 123, 3)            3075      \n",
            "=================================================================\n",
            "Total params: 6,118,323\n",
            "Trainable params: 3,333,123\n",
            "Non-trainable params: 2,785,200\n",
            "_________________________________________________________________\n",
            "None\n"
          ],
          "name": "stdout"
        }
      ]
    },
    {
      "cell_type": "code",
      "metadata": {
        "colab": {
          "base_uri": "https://localhost:8080/"
        },
        "id": "BeI7KbeMLkeu",
        "outputId": "837b09bf-d192-4f61-ddee-c6ec8256abba"
      },
      "source": [
        "history = model.fit(x_d_train, np.array(y_d_train), epochs=EPOCHS, validation_data=(x_d_valid, np.array(y_d_valid)))"
      ],
      "execution_count": 64,
      "outputs": [
        {
          "output_type": "stream",
          "text": [
            "Epoch 1/5\n",
            "170/170 [==============================] - 587s 3s/step - loss: 0.0483 - acc: 0.9812 - val_loss: 0.0449 - val_acc: 0.9826\n",
            "Epoch 2/5\n",
            "170/170 [==============================] - 595s 4s/step - loss: 0.0478 - acc: 0.9813 - val_loss: 0.0459 - val_acc: 0.9821\n",
            "Epoch 3/5\n",
            "170/170 [==============================] - 595s 3s/step - loss: 0.0466 - acc: 0.9816 - val_loss: 0.0410 - val_acc: 0.9831\n",
            "Epoch 4/5\n",
            "170/170 [==============================] - 593s 3s/step - loss: 0.0450 - acc: 0.9820 - val_loss: 0.0407 - val_acc: 0.9832\n",
            "Epoch 5/5\n",
            "170/170 [==============================] - 594s 3s/step - loss: 0.0437 - acc: 0.9824 - val_loss: 0.0409 - val_acc: 0.9833\n"
          ],
          "name": "stdout"
        }
      ]
    },
    {
      "cell_type": "code",
      "metadata": {
        "colab": {
          "base_uri": "https://localhost:8080/",
          "height": 545
        },
        "id": "x3VNu6AyM3T3",
        "outputId": "9297596e-ff7d-4dbd-d6aa-ddf19c38adcf"
      },
      "source": [
        "plotTraining(EPOCHS, history)"
      ],
      "execution_count": 67,
      "outputs": [
        {
          "output_type": "display_data",
          "data": {
            "image/png": "[encoded data removed]",
            "text/plain": [
              "<Figure size 432x288 with 1 Axes>"
            ]
          },
          "metadata": {
            "tags": [],
            "needs_background": "light"
          }
        },
        {
          "output_type": "display_data",
          "data": {
            "image/png": "[encoded data removed]",
            "text/plain": [
              "<Figure size 432x288 with 1 Axes>"
            ]
          },
          "metadata": {
            "tags": [],
            "needs_background": "light"
          }
        }
      ]
    },
    {
      "cell_type": "code",
      "metadata": {
        "id": "U9tCQkVOO6qW"
      },
      "source": [
        "predicted = model.predict(x_d_test)\n",
        "predicted_tags = []\n",
        "for s, s_pred in zip(d_test_data, predicted):\n",
        "    tags = np.argmax(s_pred, axis=1)\n",
        "    tags = tags[:len(s.split())]\n",
        "    labels = [d_index_tag_wo_padding[tag] for tag in tags]\n",
        "    #print(labels)\n",
        "    predicted_tags.append(labels)"
      ],
      "execution_count": 68,
      "outputs": []
    },
    {
      "cell_type": "code",
      "metadata": {
        "colab": {
          "base_uri": "https://localhost:8080/"
        },
        "id": "cDH5VTJqPH6J",
        "outputId": "02e63795-5ff6-467f-dc21-f84ea7c5d2cb"
      },
      "source": [
        "print(flat_classification_report(d_test_label, predicted_tags))"
      ],
      "execution_count": 69,
      "outputs": [
        {
          "output_type": "stream",
          "text": [
            "              precision    recall  f1-score   support\n",
            "\n",
            "     Disease       0.00      0.00      0.00      2047\n",
            "           O       0.92      1.00      0.96     22450\n",
            "\n",
            "    accuracy                           0.92     24497\n",
            "   macro avg       0.46      0.50      0.48     24497\n",
            "weighted avg       0.84      0.92      0.88     24497\n",
            "\n"
          ],
          "name": "stdout"
        },
        {
          "output_type": "stream",
          "text": [
            "/usr/local/lib/python3.6/dist-packages/sklearn/metrics/_classification.py:1272: UndefinedMetricWarning: Precision and F-score are ill-defined and being set to 0.0 in labels with no predicted samples. Use `zero_division` parameter to control this behavior.\n",
            "  _warn_prf(average, modifier, msg_start, len(result))\n"
          ],
          "name": "stderr"
        }
      ]
    },
    {
      "cell_type": "code",
      "metadata": {
        "colab": {
          "base_uri": "https://localhost:8080/"
        },
        "id": "6jhY3-aoPDta",
        "outputId": "ffb269a4-c348-4f1a-cb69-7fe56463cd69"
      },
      "source": [
        "test_i = randint(0,len(d_test_data))\n",
        "for i in range(len(d_test_data[test_i].split())):\n",
        "  print(predicted_tags[test_i][i],\" -------\", d_test_label[test_i][i])"
      ],
      "execution_count": 70,
      "outputs": [
        {
          "output_type": "stream",
          "text": [
            "O  ------- O\n",
            "O  ------- O\n",
            "O  ------- O\n",
            "O  ------- O\n",
            "O  ------- O\n",
            "O  ------- O\n",
            "O  ------- O\n",
            "O  ------- O\n",
            "O  ------- O\n",
            "O  ------- O\n",
            "O  ------- O\n",
            "O  ------- O\n",
            "O  ------- O\n",
            "O  ------- O\n",
            "O  ------- O\n",
            "O  ------- Disease\n",
            "O  ------- O\n",
            "O  ------- O\n",
            "O  ------- O\n",
            "O  ------- O\n",
            "O  ------- O\n",
            "O  ------- O\n",
            "O  ------- O\n"
          ],
          "name": "stdout"
        }
      ]
    }
  ]
}